{
  "nbformat": 4,
  "nbformat_minor": 0,
  "metadata": {
    "colab": {
      "provenance": []
    },
    "kernelspec": {
      "name": "python3",
      "display_name": "Python 3"
    },
    "language_info": {
      "name": "python"
    }
  },
  "cells": [
    {
      "cell_type": "code",
      "source": [
        "import pandas as pd"
      ],
      "metadata": {
        "id": "6gskt6yAz6JS"
      },
      "execution_count": null,
      "outputs": []
    },
    {
      "cell_type": "code",
      "source": [
        "superstore = pd.read_csv(\"./gdrive/MyDrive/Data Mining and Warehousing/Superstore.csv\", index_col=0)"
      ],
      "metadata": {
        "id": "dPQjEPA8z77f"
      },
      "execution_count": null,
      "outputs": []
    },
    {
      "cell_type": "code",
      "source": [
        "#Type of labels\n",
        "sample_count = 900\n",
        "label_count = sample_count // superstore['Segment'].nunique()\n",
        "\n",
        "out = superstore.groupby('Segment').sample(n=label_count)"
      ],
      "metadata": {
        "id": "zZGyO7pUZwK1"
      },
      "execution_count": null,
      "outputs": []
    },
    {
      "cell_type": "code",
      "source": [
        "set(superstore['Segment'].values)"
      ],
      "metadata": {
        "colab": {
          "base_uri": "https://localhost:8080/"
        },
        "id": "g7lrIAmLYFYT",
        "outputId": "bf51b8ff-6be5-4917-acd8-1938230923b9"
      },
      "execution_count": null,
      "outputs": [
        {
          "output_type": "execute_result",
          "data": {
            "text/plain": [
              "{'Consumer', 'Corporate', 'Home Office'}"
            ]
          },
          "metadata": {},
          "execution_count": 42
        }
      ]
    },
    {
      "cell_type": "code",
      "source": [
        "out['Segment'].value_counts()"
      ],
      "metadata": {
        "colab": {
          "base_uri": "https://localhost:8080/"
        },
        "id": "dr1iwCIgaP7_",
        "outputId": "1e3d1499-2940-4fb5-fe3b-f68a0067744f"
      },
      "execution_count": null,
      "outputs": [
        {
          "output_type": "execute_result",
          "data": {
            "text/plain": [
              "Consumer       300\n",
              "Corporate      300\n",
              "Home Office    300\n",
              "Name: Segment, dtype: int64"
            ]
          },
          "metadata": {},
          "execution_count": 63
        }
      ]
    },
    {
      "cell_type": "code",
      "source": [
        "len(list(out.sort_values(by='Row ID').index))"
      ],
      "metadata": {
        "colab": {
          "base_uri": "https://localhost:8080/"
        },
        "id": "EUjmDWBnbA8G",
        "outputId": "a8cc3ee1-65be-4c70-8a1d-22813051d2ce"
      },
      "execution_count": null,
      "outputs": [
        {
          "output_type": "execute_result",
          "data": {
            "text/plain": [
              "900"
            ]
          },
          "metadata": {},
          "execution_count": 66
        }
      ]
    }
  ]
}